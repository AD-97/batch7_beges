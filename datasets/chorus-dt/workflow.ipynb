{
 "cells": [
  {
   "cell_type": "code",
   "execution_count": null,
   "metadata": {},
   "outputs": [],
   "source": [
    "import pandas\n",
    "import os"
   ]
  },
  {
   "cell_type": "code",
   "execution_count": null,
   "metadata": {},
   "outputs": [],
   "source": [
    "import utils"
   ]
  },
  {
   "cell_type": "code",
   "execution_count": 3,
   "metadata": {},
   "outputs": [
    {
     "name": "stderr",
     "output_type": "stream",
     "text": [
      "/Users/gustaveronteix/opt/anaconda3/lib/python3.7/site-packages/tqdm/std.py:658: FutureWarning: The Panel class is removed from pandas. Accessing it from the top-level namespace will also be removed in the next version\n",
      "  from pandas import Panel\n"
     ]
    },
    {
     "name": "stdout",
     "output_type": "stream",
     "text": [
      "Prestation types: \n",
      "['T' 'TU' 'TCA' 'TC']\n",
      "Unique places src:  1009\n",
      "Unique places dst:  1001\n",
      "Unique places stop:  1409\n",
      "Unique places:  1668\n",
      "Unique trips:  16574\n"
     ]
    },
    {
     "ename": "NameError",
     "evalue": "name 'HardcodesResolver' is not defined",
     "output_type": "error",
     "traceback": [
      "\u001b[0;31m---------------------------------------------------------------------------\u001b[0m",
      "\u001b[0;31mNameError\u001b[0m                                 Traceback (most recent call last)",
      "\u001b[0;32m<ipython-input-3-e7b3728a8212>\u001b[0m in \u001b[0;36m<module>\u001b[0;34m\u001b[0m\n\u001b[1;32m     56\u001b[0m     \u001b[0mplaces\u001b[0m\u001b[0;34m[\u001b[0m\u001b[0;34m\"lat\"\u001b[0m\u001b[0;34m]\u001b[0m \u001b[0;34m=\u001b[0m \u001b[0;32mNone\u001b[0m\u001b[0;34m\u001b[0m\u001b[0;34m\u001b[0m\u001b[0m\n\u001b[1;32m     57\u001b[0m \u001b[0;34m\u001b[0m\u001b[0m\n\u001b[0;32m---> 58\u001b[0;31m     \u001b[0mhardcode_resolver\u001b[0m \u001b[0;34m=\u001b[0m \u001b[0mHardcodesResolver\u001b[0m\u001b[0;34m(\u001b[0m\u001b[0;34m)\u001b[0m\u001b[0;34m\u001b[0m\u001b[0;34m\u001b[0m\u001b[0m\n\u001b[0m\u001b[1;32m     59\u001b[0m     \u001b[0mplaces\u001b[0m \u001b[0;34m=\u001b[0m \u001b[0mplaces\u001b[0m\u001b[0;34m.\u001b[0m\u001b[0mprogress_apply\u001b[0m\u001b[0;34m(\u001b[0m\u001b[0mhardcode_resolver\u001b[0m\u001b[0;34m.\u001b[0m\u001b[0mresolve\u001b[0m\u001b[0;34m,\u001b[0m \u001b[0maxis\u001b[0m\u001b[0;34m=\u001b[0m\u001b[0;36m1\u001b[0m\u001b[0;34m)\u001b[0m\u001b[0;34m\u001b[0m\u001b[0;34m\u001b[0m\u001b[0m\n\u001b[1;32m     60\u001b[0m \u001b[0;34m\u001b[0m\u001b[0m\n",
      "\u001b[0;31mNameError\u001b[0m: name 'HardcodesResolver' is not defined"
     ]
    }
   ],
   "source": [
    "import os\n",
    "from math import radians, cos, sin, asin, sqrt\n",
    "import sys\n",
    "import time\n",
    "\n",
    "import sys\n",
    "sys.path.append('/Users/gustaveronteix/Documents/Projets/Projets Code/batch7_beges/datasets/chorus-dt')\n",
    "\n",
    "import requests\n",
    "import dill\n",
    "import urllib.parse\n",
    "import pandas as pd\n",
    "from tqdm import tqdm\n",
    "from utils.config import CONFIG\n",
    "\n",
    "from utils import dataset\n",
    "#from utils.resolvers import HardcodesResolver, GeocodingApiResolver\n",
    "\n",
    "tqdm.pandas()\n",
    "\n",
    "\n",
    "def compute_distance(x):\n",
    "    lon1 = x[\"coords_place_0_lon\"]\n",
    "    lat1 = x[\"coords_place_0_lat\"]\n",
    "    lon2 = x[\"coords_place_1_lon\"]\n",
    "    lat2 = x[\"coords_place_1_lat\"]\n",
    "    lon1, lat1, lon2, lat2 = map(radians, [lon1, lat1, lon2, lat2])\n",
    "\n",
    "    # haversine formula\n",
    "    dlon = lon2 - lon1\n",
    "    dlat = lat2 - lat1\n",
    "    a = sin(dlat / 2) ** 2 + cos(lat1) * cos(lat2) * sin(dlon / 2) ** 2\n",
    "    c = 2 * asin(sqrt(a))\n",
    "    r = 6371  # Radius of earth in miles. Use 6371 for kilometers\n",
    "    return c * r\n",
    "\n",
    "\n",
    "if __name__ == \"__main__\":\n",
    "    data = dataset.load_data(\"./data/raw/sample-avion-train.csv\")\n",
    "    places, trips = dataset.get_places_and_trips(data, [\"T\", \"TC\", \"TCA\", \"TCM\", \"TU\"])\n",
    "\n",
    "    # Splitting codes / name\n",
    "    places[[\"code_1\", \"name\", \"temp\", \"code_2\"]] = places[\"place\"].str.extract(\n",
    "        \"([^-]*)\\s-\\s([^\\[]*)\\s?([\\[](.*)[\\]])?\", expand=True\n",
    "    )\n",
    "    places.drop(columns=[\"temp\"], inplace=True)\n",
    "\n",
    "    places[\"resolved\"] = False\n",
    "    places[\"resolved_through_uic_code\"] = False\n",
    "    places[\"resolved_through_insee_code\"] = False\n",
    "    places[\"resolved_through_tvs_code\"] = False\n",
    "    places[\"resolved_through_iata_code\"] = False\n",
    "    places[\"resolved_through_gmap_api\"] = False\n",
    "    places[\"lon\"] = None\n",
    "    places[\"address\"] = \"\"\n",
    "    places[\"lat\"] = None\n",
    "\n",
    "    hardcode_resolver = HardcodesResolver()\n",
    "    places = places.progress_apply(hardcode_resolver.resolve, axis=1)\n",
    "\n",
    "    # Initiate geocoder\n",
    "    GMAP_API_KEY = CONFIG[\"api_keys\"][\"gmap\"]\n",
    "    geocoding_api_resolver = GeocodingApiResolver(api_name=\"gmap\", api_key=GMAP_API_KEY)\n",
    "\n",
    "    # Apply the geocoder with delay using the rate limiter:\n",
    "    places.loc[~places[\"resolved\"], :] = places[~places[\"resolved\"]].progress_apply(\n",
    "        geocoding_api_resolver.resolve, axis=1\n",
    "    )\n",
    "    geocoding_api_resolver.save_cache()\n",
    "    for c in places:\n",
    "        if \"resolved_through_\" in c:\n",
    "            print(c, places[c].sum())\n",
    "\n",
    "    places[\"lat\"] = places[\"lat\"].astype(float)\n",
    "    places[\"lon\"] = places[\"lon\"].astype(float)\n",
    "    places_dict = places.set_index(\"place\").to_dict()\n",
    "\n",
    "    for place_index in [0, 1, 2]:\n",
    "        trips[\"coords_place_%d_lat\" % place_index] = trips[\n",
    "            \"trip_place_%d\" % place_index\n",
    "        ].apply(lambda x: places_dict[\"lat\"][x])\n",
    "        trips[\"coords_place_%d_lon\" % place_index] = trips[\n",
    "            \"trip_place_%d\" % place_index\n",
    "        ].apply(lambda x: places_dict[\"lon\"][x])\n",
    "        trips[\"coords_place_%d\" % place_index] = (\n",
    "            trips[\"coords_place_%d_lon\" % place_index].astype(str)\n",
    "            + \";\"\n",
    "            + trips[\"coords_place_%d_lat\" % place_index].astype(str)\n",
    "        )\n",
    "        trips[\"place_%d_count\" % place_index] = trips[\n",
    "            \"trip_place_%d\" % place_index\n",
    "        ].apply(lambda x: places_dict[\"total\"][x])\n",
    "\n",
    "    trips[\"distance\"] = trips.apply(compute_distance, axis=1)\n",
    "    places.to_csv(\"./data/clean/places.csv\", index=False)\n",
    "    trips.to_csv(\"./data/clean/trips.csv\", index=False)\n"
   ]
  },
  {
   "cell_type": "code",
   "execution_count": 5,
   "metadata": {},
   "outputs": [
    {
     "name": "stdout",
     "output_type": "stream",
     "text": [
      "Prestation types: \n",
      "['A' 'AU' 'AM']\n",
      "Unique places src:  312\n",
      "Unique places dst:  310\n",
      "Unique places stop:  1\n",
      "Unique places:  327\n",
      "Unique trips:  1157\n"
     ]
    }
   ],
   "source": [
    "import numpy as np\n",
    "\n",
    "data = dataset.load_data(\"./data/raw/sample-avion-train.csv\")\n",
    "places, trips = dataset.get_places_and_trips(data, [\"A\", 'AM', 'AU'])"
   ]
  },
  {
   "cell_type": "code",
   "execution_count": 72,
   "metadata": {},
   "outputs": [
    {
     "name": "stdout",
     "output_type": "stream",
     "text": [
      "Prestation types: \n",
      "['A' 'AU']\n",
      "Unique places src:  288\n",
      "Unique places dst:  285\n",
      "Unique places stop:  1\n",
      "Unique places:  300\n",
      "Unique trips:  1036\n"
     ]
    },
    {
     "name": "stderr",
     "output_type": "stream",
     "text": [
      "\n",
      "\n",
      "\n",
      "100%|██████████| 300/300 [00:00<00:00, 2880.27it/s]\n"
     ]
    }
   ],
   "source": [
    "if __name__ == \"__main__\":\n",
    "    data = dataset.load_data(\"./data/raw/sample-avion-train.csv\")\n",
    "    places, trips = dataset.get_places_and_trips(data, [\"A\", \"AU\", \"AT\"])\n",
    "\n",
    "    # Splitting codes / name\n",
    "    places[[\"code_1\", \"name\", \"temp\", \"code_2\"]] = places[\"place\"].str.extract(\n",
    "        \"([^-]*)\\s-\\s([^\\[]*)\\s?([\\[](.*)[\\]])?\", expand=True\n",
    "    )\n",
    "    places.drop(columns=[\"temp\"], inplace=True)\n",
    "\n",
    "    places[\"resolved\"] = False\n",
    "    places[\"resolved_through_uic_code\"] = False\n",
    "    places[\"resolved_through_insee_code\"] = False\n",
    "    places[\"resolved_through_tvs_code\"] = False\n",
    "    places[\"resolved_through_iata_code\"] = False\n",
    "    places[\"resolved_through_gmap_api\"] = False\n",
    "    places[\"lon\"] = None\n",
    "    places[\"address\"] = \"\"\n",
    "    places[\"lat\"] = None\n",
    "\n",
    "    hardcode_resolver = HardcodesResolver()\n",
    "    places = places.progress_apply(hardcode_resolver.resolve, axis=1)"
   ]
  },
  {
   "cell_type": "code",
   "execution_count": 60,
   "metadata": {},
   "outputs": [],
   "source": [
    "a = places.loc[0]\n",
    "with open((\"./data/prepared/iata_codes.pkl\"), \"rb\") as file_id:\n",
    "    iata_codes = dill.load(file_id)"
   ]
  },
  {
   "cell_type": "code",
   "execution_count": 65,
   "metadata": {},
   "outputs": [
    {
     "data": {
      "text/plain": [
       "True"
      ]
     },
     "execution_count": 65,
     "metadata": {},
     "output_type": "execute_result"
    }
   ],
   "source": [
    "'CDG' in iata_codes['lon']"
   ]
  },
  {
   "cell_type": "code",
   "execution_count": 70,
   "metadata": {},
   "outputs": [],
   "source": [
    "a[\"code_1\"][-3:] in iata_codes['lon']\n",
    "a[\"lon\"] = iata_codes[\"lon\"][a[\"code_1\"][-3:]]\n",
    "a[\"lat\"] = iata_codes[\"lat\"][a[\"code_1\"][-3:]]"
   ]
  },
  {
   "cell_type": "code",
   "execution_count": null,
   "metadata": {},
   "outputs": [],
   "source": [
    "str(x[\"code_1\"][-3:]) in self.iata_codes[\"lon\"]:\n",
    "                x[\"lon\"] = self.iata_codes[\"lon\"][x[\"code_1\"]]\n",
    "                x[\"lat\"] = self.iata_codes[\"lat\"][x[\"code_1\"]]\n",
    "                x[\"resolved\"] = True"
   ]
  },
  {
   "cell_type": "code",
   "execution_count": 71,
   "metadata": {},
   "outputs": [],
   "source": [
    "class HardcodesResolver:\n",
    "    def __init__(self):\n",
    "        self.insee_codes = self.load_codes(\"./data/prepared/insee_codes.pkl\")\n",
    "        self.tvs_codes = self.load_codes(\"./data/prepared/tvs_codes.pkl\")\n",
    "        self.uic_codes = self.load_codes(\"./data/prepared/uic_codes.pkl\")\n",
    "        self.iata_codes = self.load_codes(\"./data/prepared/iata_codes.pkl\")\n",
    "\n",
    "    def load_codes(self, path):\n",
    "        with open(path, \"rb\") as file_id:\n",
    "            return dill.load(file_id)\n",
    "\n",
    "    def resolve(self, x):\n",
    "        code_2_as_int = self.get_int(x[\"code_2\"])\n",
    "        \n",
    "        try:\n",
    "            if code_2_as_int and (code_2_as_int in self.uic_codes[\"lon\"]):\n",
    "                x[\"lon\"] = self.uic_codes[\"lon\"][code_2_as_int]\n",
    "                x[\"lat\"] = self.uic_codes[\"lat\"][code_2_as_int]\n",
    "                x[\"resolved\"] = True\n",
    "                x[\"resolved_through_uic_code\"] = True\n",
    "            elif x[\"code_1\"] in self.insee_codes[\"lon\"]:\n",
    "                x[\"lon\"] = self.insee_codes[\"lon\"][x[\"code_1\"]]\n",
    "                x[\"lat\"] = self.insee_codes[\"lat\"][x[\"code_1\"]]\n",
    "                x[\"resolved\"] = True\n",
    "                x[\"resolved_through_insee_code\"] = True\n",
    "            elif str(x[\"code_1\"][-3:]) in self.iata_codes[\"lon\"]:                \n",
    "                x[\"lon\"] = self.iata_codes[\"lon\"][x[\"code_1\"][-3:]]\n",
    "                x[\"lat\"] = self.iata_codes[\"lat\"][x[\"code_1\"][-3:]]\n",
    "                x[\"resolved\"] = True\n",
    "                x[\"resolved_through_iata_code\"] = True\n",
    "            elif x[\"place\"] == '-75056': # Hard exception...\n",
    "                x[\"name\"] = 'Paris'\n",
    "            # elif x['code_1'] in TVS_CODES['lon']:\n",
    "            #     x['lon'] = TVS_CODES['lon'][x['code_1']]\n",
    "            #     x['lat'] = TVS_CODES['lat'][x['code_1']]\n",
    "            #     x['resolved'] = True\n",
    "            #     x['resolved_through_tvs_code'] = True\n",
    "            else:\n",
    "                x[\"lon\"] = None\n",
    "                x[\"lat\"] = None\n",
    "                \n",
    "        except:\n",
    "            print(x[\"code_1\"])\n",
    "        return x\n",
    "\n",
    "    def get_int(self, x):\n",
    "        try:\n",
    "            return int(x)\n",
    "        except ValueError:\n",
    "            return None"
   ]
  },
  {
   "cell_type": "code",
   "execution_count": null,
   "metadata": {},
   "outputs": [],
   "source": []
  }
 ],
 "metadata": {
  "kernelspec": {
   "display_name": "Python 3",
   "language": "python",
   "name": "python3"
  },
  "language_info": {
   "codemirror_mode": {
    "name": "ipython",
    "version": 3
   },
   "file_extension": ".py",
   "mimetype": "text/x-python",
   "name": "python",
   "nbconvert_exporter": "python",
   "pygments_lexer": "ipython3",
   "version": "3.7.4"
  }
 },
 "nbformat": 4,
 "nbformat_minor": 2
}
